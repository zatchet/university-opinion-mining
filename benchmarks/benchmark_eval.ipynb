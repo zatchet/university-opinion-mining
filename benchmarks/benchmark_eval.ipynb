{
 "cells": [
  {
   "cell_type": "code",
   "execution_count": 1,
   "metadata": {},
   "outputs": [],
   "source": [
    "import os\n",
    "import pandas as pd\n",
    "from tqdm import tqdm\n",
    "import logging\n",
    "logging.getLogger().setLevel(logging.ERROR)\n",
    "\n",
    "import warnings\n",
    "warnings.filterwarnings(\"ignore\")"
   ]
  },
  {
   "cell_type": "markdown",
   "metadata": {},
   "source": [
    "# Generate Questions for Benchmark"
   ]
  },
  {
   "cell_type": "code",
   "execution_count": 2,
   "metadata": {
    "tags": []
   },
   "outputs": [],
   "source": [
    "import subreddit_benchmark_generation as sub_gen"
   ]
  },
  {
   "cell_type": "code",
   "execution_count": 3,
   "metadata": {
    "collapsed": true,
    "jupyter": {
     "outputs_hidden": true
    },
    "tags": []
   },
   "outputs": [
    {
     "name": "stderr",
     "output_type": "stream",
     "text": [
      "580it [04:05,  2.36it/s]\n"
     ]
    },
    {
     "data": {
      "text/html": [
       "<div>\n",
       "<style scoped>\n",
       "    .dataframe tbody tr th:only-of-type {\n",
       "        vertical-align: middle;\n",
       "    }\n",
       "\n",
       "    .dataframe tbody tr th {\n",
       "        vertical-align: top;\n",
       "    }\n",
       "\n",
       "    .dataframe thead th {\n",
       "        text-align: right;\n",
       "    }\n",
       "</style>\n",
       "<table border=\"1\" class=\"dataframe\">\n",
       "  <thead>\n",
       "    <tr style=\"text-align: right;\">\n",
       "      <th></th>\n",
       "      <th>subreddit</th>\n",
       "      <th>question</th>\n",
       "    </tr>\n",
       "  </thead>\n",
       "  <tbody>\n",
       "    <tr>\n",
       "      <th>0</th>\n",
       "      <td>Aberystwyth</td>\n",
       "      <td>Are there sufficient resources available to st...</td>\n",
       "    </tr>\n",
       "    <tr>\n",
       "      <th>1</th>\n",
       "      <td>AcadiaU</td>\n",
       "      <td>What is the most popular club on campus at Aca...</td>\n",
       "    </tr>\n",
       "    <tr>\n",
       "      <th>2</th>\n",
       "      <td>Algonquin_College</td>\n",
       "      <td>What are the most common majors chosen by stud...</td>\n",
       "    </tr>\n",
       "    <tr>\n",
       "      <th>3</th>\n",
       "      <td>amarillocollege</td>\n",
       "      <td>Do students at Amarillo College find the trans...</td>\n",
       "    </tr>\n",
       "    <tr>\n",
       "      <th>4</th>\n",
       "      <td>AmericanU</td>\n",
       "      <td>Are American University students satisfied wit...</td>\n",
       "    </tr>\n",
       "    <tr>\n",
       "      <th>...</th>\n",
       "      <td>...</td>\n",
       "      <td>...</td>\n",
       "    </tr>\n",
       "    <tr>\n",
       "      <th>575</th>\n",
       "      <td>WPI</td>\n",
       "      <td>Do professional sports teams frequently recrui...</td>\n",
       "    </tr>\n",
       "    <tr>\n",
       "      <th>576</th>\n",
       "      <td>wrightstate</td>\n",
       "      <td>How do Wright State University students handle...</td>\n",
       "    </tr>\n",
       "    <tr>\n",
       "      <th>577</th>\n",
       "      <td>yale</td>\n",
       "      <td>What are the most popular student organization...</td>\n",
       "    </tr>\n",
       "    <tr>\n",
       "      <th>578</th>\n",
       "      <td>yorku</td>\n",
       "      <td>How do students at York University in Toronto ...</td>\n",
       "    </tr>\n",
       "    <tr>\n",
       "      <th>579</th>\n",
       "      <td>etsmtl</td>\n",
       "      <td>What are some initiatives that École de Techno...</td>\n",
       "    </tr>\n",
       "  </tbody>\n",
       "</table>\n",
       "<p>580 rows × 2 columns</p>\n",
       "</div>"
      ],
      "text/plain": [
       "             subreddit                                           question\n",
       "0          Aberystwyth  Are there sufficient resources available to st...\n",
       "1              AcadiaU  What is the most popular club on campus at Aca...\n",
       "2    Algonquin_College  What are the most common majors chosen by stud...\n",
       "3      amarillocollege  Do students at Amarillo College find the trans...\n",
       "4            AmericanU  Are American University students satisfied wit...\n",
       "..                 ...                                                ...\n",
       "575                WPI  Do professional sports teams frequently recrui...\n",
       "576        wrightstate  How do Wright State University students handle...\n",
       "577               yale  What are the most popular student organization...\n",
       "578              yorku  How do students at York University in Toronto ...\n",
       "579             etsmtl  What are some initiatives that École de Techno...\n",
       "\n",
       "[580 rows x 2 columns]"
      ]
     },
     "execution_count": 3,
     "metadata": {},
     "output_type": "execute_result"
    }
   ],
   "source": [
    "sub_gen.generate_for_benchmark()"
   ]
  },
  {
   "cell_type": "markdown",
   "metadata": {},
   "source": [
    "# Benchmark Subreddit "
   ]
  },
  {
   "cell_type": "code",
   "execution_count": 5,
   "metadata": {},
   "outputs": [
    {
     "name": "stderr",
     "output_type": "stream",
     "text": [
      "580it [01:46,  5.46it/s]"
     ]
    },
    {
     "name": "stdout",
     "output_type": "stream",
     "text": [
      "Accuracy: 0.9431034482758621\n"
     ]
    },
    {
     "name": "stderr",
     "output_type": "stream",
     "text": [
      "\n"
     ]
    }
   ],
   "source": [
    "os.chdir('../')\n",
    "import subreddit as sub\n",
    "os.chdir('benchmarks')\n",
    "\n",
    "benchmark = pd.read_csv('subreddit_benchmark.csv')\n",
    "\n",
    "correct = 0\n",
    "for i, row in tqdm(benchmark.iterrows()):\n",
    "    subreddit = sub.get_subreddit_name(row['question'])\n",
    "    if subreddit == row['subreddit']:\n",
    "        correct += 1\n",
    "print('Accuracy:', correct / len(benchmark))"
   ]
  },
  {
   "cell_type": "markdown",
   "metadata": {},
   "source": [
    "# Benchmark Final"
   ]
  },
  {
   "cell_type": "code",
   "execution_count": 2,
   "metadata": {},
   "outputs": [
    {
     "name": "stderr",
     "output_type": "stream",
     "text": [
      "20it [01:41,  5.10s/it]"
     ]
    },
    {
     "name": "stdout",
     "output_type": "stream",
     "text": [
      "Accuracy: 0.55\n"
     ]
    },
    {
     "name": "stderr",
     "output_type": "stream",
     "text": [
      "\n"
     ]
    }
   ],
   "source": [
    "os.chdir('../')\n",
    "from agent import Agent\n",
    "\n",
    "agent = Agent()\n",
    "benchmark = pd.read_csv('benchmarks/final_benchmark.csv')\n",
    "\n",
    "correct = 0\n",
    "for i, row in tqdm(benchmark.iterrows()):\n",
    "    url, sentiment = agent.get_sentiment_and_post(row['question'])\n",
    "    if sentiment == row['sentiment']:\n",
    "        correct += 1\n",
    "\n",
    "os.chdir('benchmarks')\n",
    "print('Accuracy:', correct / len(benchmark))"
   ]
  },
  {
   "cell_type": "code",
   "execution_count": null,
   "metadata": {},
   "outputs": [],
   "source": []
  }
 ],
 "metadata": {
  "kernelspec": {
   "display_name": "cs4973_project_venv",
   "language": "python",
   "name": "python3"
  },
  "language_info": {
   "codemirror_mode": {
    "name": "ipython",
    "version": 3
   },
   "file_extension": ".py",
   "mimetype": "text/x-python",
   "name": "python",
   "nbconvert_exporter": "python",
   "pygments_lexer": "ipython3",
   "version": "3.10.9"
  }
 },
 "nbformat": 4,
 "nbformat_minor": 4
}
