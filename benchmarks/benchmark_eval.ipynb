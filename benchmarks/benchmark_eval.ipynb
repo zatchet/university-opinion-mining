{
 "cells": [
  {
   "cell_type": "markdown",
   "metadata": {},
   "source": [
    "# Generate Questions for Benchmark"
   ]
  },
  {
   "cell_type": "code",
   "execution_count": 1,
   "metadata": {
    "tags": []
   },
   "outputs": [],
   "source": [
    "import subreddit_benchmark_generation as sub_gen"
   ]
  },
  {
   "cell_type": "code",
   "execution_count": 2,
   "metadata": {
    "collapsed": true,
    "jupyter": {
     "outputs_hidden": true
    },
    "tags": []
   },
   "outputs": [
    {
     "name": "stderr",
     "output_type": "stream",
     "text": [
      "580it [04:14,  2.27it/s]\n"
     ]
    },
    {
     "data": {
      "text/html": [
       "<div>\n",
       "<style scoped>\n",
       "    .dataframe tbody tr th:only-of-type {\n",
       "        vertical-align: middle;\n",
       "    }\n",
       "\n",
       "    .dataframe tbody tr th {\n",
       "        vertical-align: top;\n",
       "    }\n",
       "\n",
       "    .dataframe thead th {\n",
       "        text-align: right;\n",
       "    }\n",
       "</style>\n",
       "<table border=\"1\" class=\"dataframe\">\n",
       "  <thead>\n",
       "    <tr style=\"text-align: right;\">\n",
       "      <th></th>\n",
       "      <th>subreddit</th>\n",
       "      <th>question</th>\n",
       "    </tr>\n",
       "  </thead>\n",
       "  <tbody>\n",
       "    <tr>\n",
       "      <th>0</th>\n",
       "      <td>Aberystwyth University</td>\n",
       "      <td>Are Aberystwyth University students satisfied ...</td>\n",
       "    </tr>\n",
       "    <tr>\n",
       "      <th>1</th>\n",
       "      <td>Acadia University</td>\n",
       "      <td>What are the common challenges faced by studen...</td>\n",
       "    </tr>\n",
       "    <tr>\n",
       "      <th>2</th>\n",
       "      <td>Algonquin College</td>\n",
       "      <td>Do students at Algonquin College believe the f...</td>\n",
       "    </tr>\n",
       "    <tr>\n",
       "      <th>3</th>\n",
       "      <td>Amarillo College</td>\n",
       "      <td>Do students at Amarillo College feel that the ...</td>\n",
       "    </tr>\n",
       "    <tr>\n",
       "      <th>4</th>\n",
       "      <td>American University</td>\n",
       "      <td>How do students at American University balance...</td>\n",
       "    </tr>\n",
       "    <tr>\n",
       "      <th>...</th>\n",
       "      <td>...</td>\n",
       "      <td>...</td>\n",
       "    </tr>\n",
       "    <tr>\n",
       "      <th>575</th>\n",
       "      <td>Worcester Polytechnic Institute</td>\n",
       "      <td>Do students at Worcester Polytechnic Institute...</td>\n",
       "    </tr>\n",
       "    <tr>\n",
       "      <th>576</th>\n",
       "      <td>Wright State University</td>\n",
       "      <td>Are the financial aid options at Wright State ...</td>\n",
       "    </tr>\n",
       "    <tr>\n",
       "      <th>577</th>\n",
       "      <td>Yale University</td>\n",
       "      <td>Are Yale University students satisfied with th...</td>\n",
       "    </tr>\n",
       "    <tr>\n",
       "      <th>578</th>\n",
       "      <td>York University in Toronto</td>\n",
       "      <td>What are the most popular campus events and ac...</td>\n",
       "    </tr>\n",
       "    <tr>\n",
       "      <th>579</th>\n",
       "      <td>École de Technologie Supérieure</td>\n",
       "      <td>Are there any plans to implement more English ...</td>\n",
       "    </tr>\n",
       "  </tbody>\n",
       "</table>\n",
       "<p>580 rows × 2 columns</p>\n",
       "</div>"
      ],
      "text/plain": [
       "                           subreddit  \\\n",
       "0             Aberystwyth University   \n",
       "1                  Acadia University   \n",
       "2                  Algonquin College   \n",
       "3                   Amarillo College   \n",
       "4                American University   \n",
       "..                               ...   \n",
       "575  Worcester Polytechnic Institute   \n",
       "576          Wright State University   \n",
       "577                  Yale University   \n",
       "578       York University in Toronto   \n",
       "579  École de Technologie Supérieure   \n",
       "\n",
       "                                              question  \n",
       "0    Are Aberystwyth University students satisfied ...  \n",
       "1    What are the common challenges faced by studen...  \n",
       "2    Do students at Algonquin College believe the f...  \n",
       "3    Do students at Amarillo College feel that the ...  \n",
       "4    How do students at American University balance...  \n",
       "..                                                 ...  \n",
       "575  Do students at Worcester Polytechnic Institute...  \n",
       "576  Are the financial aid options at Wright State ...  \n",
       "577  Are Yale University students satisfied with th...  \n",
       "578  What are the most popular campus events and ac...  \n",
       "579  Are there any plans to implement more English ...  \n",
       "\n",
       "[580 rows x 2 columns]"
      ]
     },
     "execution_count": 2,
     "metadata": {},
     "output_type": "execute_result"
    }
   ],
   "source": [
    "sub_gen.generate_for_benchmark()"
   ]
  },
  {
   "cell_type": "code",
   "execution_count": null,
   "metadata": {},
   "outputs": [],
   "source": []
  }
 ],
 "metadata": {
  "kernelspec": {
   "display_name": "cs4973_project_venv",
   "language": "python",
   "name": "python3"
  },
  "language_info": {
   "codemirror_mode": {
    "name": "ipython",
    "version": 3
   },
   "file_extension": ".py",
   "mimetype": "text/x-python",
   "name": "python",
   "nbconvert_exporter": "python",
   "pygments_lexer": "ipython3",
   "version": "3.10.9"
  }
 },
 "nbformat": 4,
 "nbformat_minor": 4
}
