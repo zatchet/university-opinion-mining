{
 "cells": [
  {
   "cell_type": "code",
   "execution_count": 1,
   "metadata": {
    "tags": []
   },
   "outputs": [],
   "source": [
    "import os\n",
    "from openai import OpenAI\n",
    "import praw\n",
    "import prawcore\n",
    "import pandas as pd\n",
    "from tqdm import tqdm\n",
    "\n",
    "CLIENT_ID = \"SkhgKRppbHeDR6HTG4Q1BQ\"\n",
    "CLIENT_SECRET = \"daMDLGmHMTPYNIf2t1-Z2s6PXlBtJA\"\n",
    "USER_AGENT = \"SentimentChatbot/1.0 (by /u/Affectionate-West-78)\"\n",
    "\n",
    "api_client = praw.Reddit(\n",
    "    client_id=CLIENT_ID,\n",
    "    client_secret=CLIENT_SECRET,\n",
    "    user_agent=USER_AGENT\n",
    ")\n",
    "\n",
    "BASE_URL = \"http://199.94.61.113:8000/v1/\" # os.getenv('CS4973_BASE_URL')\n",
    "API_KEY=api_key = \"bengani.k@northeastern.edu:8H4rX1jbx2FxmFQzOXev\" # os.getenv('CS4973_API_KEY')\n",
    "client = OpenAI(base_url=BASE_URL, api_key=API_KEY)\n"
   ]
  },
  {
   "cell_type": "code",
   "execution_count": 2,
   "metadata": {
    "tags": []
   },
   "outputs": [],
   "source": [
    "SYSTEM_PROMPT = '''\n",
    "Come up with a hypothetical question that would be relevant to the university given. \n",
    "Return only the question. Be sure to include the name of the university in the question.\n",
    "\n",
    "Examples:\n",
    "Question: Boston Univeristy\n",
    "Answer: How do people feel about the dorms at Boston University?\n",
    "Question: University of Washington\n",
    "Answer: At the University of Washington, do people like the quality of the food?\n",
    "'''"
   ]
  },
  {
   "cell_type": "code",
   "execution_count": 3,
   "metadata": {
    "tags": []
   },
   "outputs": [
    {
     "data": {
      "text/html": [
       "<div>\n",
       "<style scoped>\n",
       "    .dataframe tbody tr th:only-of-type {\n",
       "        vertical-align: middle;\n",
       "    }\n",
       "\n",
       "    .dataframe tbody tr th {\n",
       "        vertical-align: top;\n",
       "    }\n",
       "\n",
       "    .dataframe thead th {\n",
       "        text-align: right;\n",
       "    }\n",
       "</style>\n",
       "<table border=\"1\" class=\"dataframe\">\n",
       "  <thead>\n",
       "    <tr style=\"text-align: right;\">\n",
       "      <th></th>\n",
       "      <th>name</th>\n",
       "      <th>subreddit</th>\n",
       "    </tr>\n",
       "  </thead>\n",
       "  <tbody>\n",
       "    <tr>\n",
       "      <th>0</th>\n",
       "      <td>Aberystwyth University</td>\n",
       "      <td>Aberystwyth</td>\n",
       "    </tr>\n",
       "    <tr>\n",
       "      <th>1</th>\n",
       "      <td>Acadia University</td>\n",
       "      <td>AcadiaU</td>\n",
       "    </tr>\n",
       "    <tr>\n",
       "      <th>2</th>\n",
       "      <td>Algonquin College</td>\n",
       "      <td>Algonquin_College</td>\n",
       "    </tr>\n",
       "    <tr>\n",
       "      <th>3</th>\n",
       "      <td>Amarillo College</td>\n",
       "      <td>amarillocollege</td>\n",
       "    </tr>\n",
       "    <tr>\n",
       "      <th>4</th>\n",
       "      <td>American University</td>\n",
       "      <td>AmericanU</td>\n",
       "    </tr>\n",
       "  </tbody>\n",
       "</table>\n",
       "</div>"
      ],
      "text/plain": [
       "                     name          subreddit\n",
       "0  Aberystwyth University        Aberystwyth\n",
       "1       Acadia University            AcadiaU\n",
       "2       Algonquin College  Algonquin_College\n",
       "3        Amarillo College    amarillocollege\n",
       "4     American University          AmericanU"
      ]
     },
     "execution_count": 3,
     "metadata": {},
     "output_type": "execute_result"
    }
   ],
   "source": [
    "# convert csv to dataframe\n",
    "df = pd.read_csv('colleges.csv')\n",
    "df.drop(columns=['location'], inplace=True)\n",
    "\n",
    "df.head()"
   ]
  },
  {
   "cell_type": "code",
   "execution_count": 4,
   "metadata": {
    "tags": []
   },
   "outputs": [
    {
     "name": "stderr",
     "output_type": "stream",
     "text": [
      "580it [18:19,  1.90s/it]\n"
     ]
    }
   ],
   "source": [
    "questions_df = pd.DataFrame(columns=['subreddit', 'question'])\n",
    "for index, row in tqdm(df.iterrows()):\n",
    "    messages = [{'role': 'system', 'content': SYSTEM_PROMPT}]\n",
    "    messages.append({'role': 'user', 'content': row['name']})\n",
    "\n",
    "    for _ in range(5):\n",
    "        resp = client.chat.completions.create(\n",
    "            messages = messages,\n",
    "            model = \"meta-llama/Meta-Llama-3.1-8B-Instruct\",\n",
    "            temperature=0.9,\n",
    "            max_tokens=500,\n",
    "        )\n",
    "        resp = resp.choices[0].message.content\n",
    "        questions_df.loc[len(questions_df)] = {'subreddit': row['subreddit'], 'question': resp}\n",
    "questions_df.drop_duplicates(subset=['question'], inplace=True)\n",
    "questions_df.to_csv('questions.csv', index=False)"
   ]
  },
  {
   "cell_type": "code",
   "execution_count": 38,
   "metadata": {},
   "outputs": [],
   "source": [
    "SYSTEM_PROMPT_BENCHMARK = '''\n",
    "Come up with a hypothetical question that would be relevant to the university given. \n",
    "Return only the question. Be sure to include the name of the university in the question.\n",
    "\n",
    "Examples:\n",
    "Question: Boston Univeristy\n",
    "Answer: On a scale of 1-10, how do people feel about the dorms at Boston University?\n",
    "Question: University of Washington\n",
    "Answer: On a scale of 1-10, do people like the quality of the food at the University of Washington?\n",
    "'''"
   ]
  },
  {
   "cell_type": "code",
   "execution_count": 39,
   "metadata": {},
   "outputs": [],
   "source": [
    "benchmark_df = pd.DataFrame(columns=['subreddit', 'question'])\n",
    "for index, row in df.iterrows():\n",
    "    messages = [{'role': 'system', 'content': SYSTEM_PROMPT_BENCHMARK}]\n",
    "    messages.append({'role': 'user', 'content': row['name']})\n",
    "\n",
    "    resp = client.chat.completions.create(\n",
    "        messages = messages,\n",
    "        model = \"meta-llama/Meta-Llama-3.1-8B-Instruct\",\n",
    "        temperature=0.9,\n",
    "        max_tokens=500,\n",
    "    )\n",
    "    resp = resp.choices[0].message.content\n",
    "    benchmark_df.loc[len(benchmark_df)] = {'subreddit': row['subreddit'], 'question': resp}\n",
    "benchmark_df.drop_duplicates(subset=['question'], inplace=True)\n",
    "benchmark_df.to_csv('benchmark_questions.csv', index=False)"
   ]
  },
  {
   "cell_type": "code",
   "execution_count": null,
   "metadata": {},
   "outputs": [],
   "source": [
    "# format for benchmark part 2\n",
    "\n",
    "# question, answer, difficulty\n",
    "# on a scale of 1-10, how do people feel about the quality of the food at the University of Washington?, 8, hard"
   ]
  }
 ],
 "metadata": {
  "kernelspec": {
   "display_name": "llm_project_venv",
   "language": "python",
   "name": "llm_project_venv"
  },
  "language_info": {
   "codemirror_mode": {
    "name": "ipython",
    "version": 3
   },
   "file_extension": ".py",
   "mimetype": "text/x-python",
   "name": "python",
   "nbconvert_exporter": "python",
   "pygments_lexer": "ipython3",
   "version": "3.9.18"
  }
 },
 "nbformat": 4,
 "nbformat_minor": 4
}
